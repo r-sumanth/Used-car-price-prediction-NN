{
 "cells": [
  {
   "cell_type": "code",
   "execution_count": 2,
   "id": "4c932bf2",
   "metadata": {},
   "outputs": [],
   "source": [
    "import tensorflow as tf\n",
    "import numpy as np\n",
    "import pandas as pd\n",
    "import matplotlib.pyplot as plt"
   ]
  },
  {
   "cell_type": "code",
   "execution_count": 3,
   "id": "fa53c163",
   "metadata": {},
   "outputs": [
    {
     "data": {
      "text/html": [
       "<div>\n",
       "<style scoped>\n",
       "    .dataframe tbody tr th:only-of-type {\n",
       "        vertical-align: middle;\n",
       "    }\n",
       "\n",
       "    .dataframe tbody tr th {\n",
       "        vertical-align: top;\n",
       "    }\n",
       "\n",
       "    .dataframe thead th {\n",
       "        text-align: right;\n",
       "    }\n",
       "</style>\n",
       "<table border=\"1\" class=\"dataframe\">\n",
       "  <thead>\n",
       "    <tr style=\"text-align: right;\">\n",
       "      <th></th>\n",
       "      <th>v.id</th>\n",
       "      <th>on road old</th>\n",
       "      <th>on road now</th>\n",
       "      <th>years</th>\n",
       "      <th>km</th>\n",
       "      <th>rating</th>\n",
       "      <th>condition</th>\n",
       "      <th>economy</th>\n",
       "      <th>top speed</th>\n",
       "      <th>hp</th>\n",
       "      <th>torque</th>\n",
       "      <th>current price</th>\n",
       "    </tr>\n",
       "  </thead>\n",
       "  <tbody>\n",
       "    <tr>\n",
       "      <th>0</th>\n",
       "      <td>1</td>\n",
       "      <td>535651</td>\n",
       "      <td>798186</td>\n",
       "      <td>3</td>\n",
       "      <td>78945</td>\n",
       "      <td>1</td>\n",
       "      <td>2</td>\n",
       "      <td>14</td>\n",
       "      <td>177</td>\n",
       "      <td>73</td>\n",
       "      <td>123</td>\n",
       "      <td>351318.0</td>\n",
       "    </tr>\n",
       "    <tr>\n",
       "      <th>1</th>\n",
       "      <td>2</td>\n",
       "      <td>591911</td>\n",
       "      <td>861056</td>\n",
       "      <td>6</td>\n",
       "      <td>117220</td>\n",
       "      <td>5</td>\n",
       "      <td>9</td>\n",
       "      <td>9</td>\n",
       "      <td>148</td>\n",
       "      <td>74</td>\n",
       "      <td>95</td>\n",
       "      <td>285001.5</td>\n",
       "    </tr>\n",
       "    <tr>\n",
       "      <th>2</th>\n",
       "      <td>3</td>\n",
       "      <td>686990</td>\n",
       "      <td>770762</td>\n",
       "      <td>2</td>\n",
       "      <td>132538</td>\n",
       "      <td>2</td>\n",
       "      <td>8</td>\n",
       "      <td>15</td>\n",
       "      <td>181</td>\n",
       "      <td>53</td>\n",
       "      <td>97</td>\n",
       "      <td>215386.0</td>\n",
       "    </tr>\n",
       "    <tr>\n",
       "      <th>3</th>\n",
       "      <td>4</td>\n",
       "      <td>573999</td>\n",
       "      <td>722381</td>\n",
       "      <td>4</td>\n",
       "      <td>101065</td>\n",
       "      <td>4</td>\n",
       "      <td>3</td>\n",
       "      <td>11</td>\n",
       "      <td>197</td>\n",
       "      <td>54</td>\n",
       "      <td>116</td>\n",
       "      <td>244295.5</td>\n",
       "    </tr>\n",
       "    <tr>\n",
       "      <th>4</th>\n",
       "      <td>5</td>\n",
       "      <td>691388</td>\n",
       "      <td>811335</td>\n",
       "      <td>6</td>\n",
       "      <td>61559</td>\n",
       "      <td>3</td>\n",
       "      <td>9</td>\n",
       "      <td>12</td>\n",
       "      <td>160</td>\n",
       "      <td>53</td>\n",
       "      <td>105</td>\n",
       "      <td>531114.5</td>\n",
       "    </tr>\n",
       "  </tbody>\n",
       "</table>\n",
       "</div>"
      ],
      "text/plain": [
       "   v.id  on road old  on road now  years      km  rating  condition  economy  \\\n",
       "0     1       535651       798186      3   78945       1          2       14   \n",
       "1     2       591911       861056      6  117220       5          9        9   \n",
       "2     3       686990       770762      2  132538       2          8       15   \n",
       "3     4       573999       722381      4  101065       4          3       11   \n",
       "4     5       691388       811335      6   61559       3          9       12   \n",
       "\n",
       "   top speed  hp  torque  current price  \n",
       "0        177  73     123       351318.0  \n",
       "1        148  74      95       285001.5  \n",
       "2        181  53      97       215386.0  \n",
       "3        197  54     116       244295.5  \n",
       "4        160  53     105       531114.5  "
      ]
     },
     "execution_count": 3,
     "metadata": {},
     "output_type": "execute_result"
    }
   ],
   "source": [
    "used_car_data = pd.read_csv('/Users/sumanth/Documents/TF-Udemy/DataSets/second_hand_cars.csv')\n",
    "used_car_data.head()"
   ]
  },
  {
   "cell_type": "code",
   "execution_count": 4,
   "id": "cb6eac39",
   "metadata": {},
   "outputs": [
    {
     "data": {
      "text/html": [
       "<div>\n",
       "<style scoped>\n",
       "    .dataframe tbody tr th:only-of-type {\n",
       "        vertical-align: middle;\n",
       "    }\n",
       "\n",
       "    .dataframe tbody tr th {\n",
       "        vertical-align: top;\n",
       "    }\n",
       "\n",
       "    .dataframe thead th {\n",
       "        text-align: right;\n",
       "    }\n",
       "</style>\n",
       "<table border=\"1\" class=\"dataframe\">\n",
       "  <thead>\n",
       "    <tr style=\"text-align: right;\">\n",
       "      <th></th>\n",
       "      <th>v.id</th>\n",
       "      <th>on road old</th>\n",
       "      <th>on road now</th>\n",
       "      <th>years</th>\n",
       "      <th>km</th>\n",
       "      <th>rating</th>\n",
       "      <th>condition</th>\n",
       "      <th>economy</th>\n",
       "      <th>top speed</th>\n",
       "      <th>hp</th>\n",
       "      <th>torque</th>\n",
       "      <th>current price</th>\n",
       "    </tr>\n",
       "  </thead>\n",
       "  <tbody>\n",
       "    <tr>\n",
       "      <th>v.id</th>\n",
       "      <td>1.000000</td>\n",
       "      <td>-0.029926</td>\n",
       "      <td>-0.030787</td>\n",
       "      <td>-0.034255</td>\n",
       "      <td>0.047400</td>\n",
       "      <td>-0.018263</td>\n",
       "      <td>-0.038548</td>\n",
       "      <td>0.047137</td>\n",
       "      <td>0.001613</td>\n",
       "      <td>-0.006997</td>\n",
       "      <td>-0.000632</td>\n",
       "      <td>-0.059460</td>\n",
       "    </tr>\n",
       "    <tr>\n",
       "      <th>on road old</th>\n",
       "      <td>-0.029926</td>\n",
       "      <td>1.000000</td>\n",
       "      <td>0.034113</td>\n",
       "      <td>0.007207</td>\n",
       "      <td>0.007488</td>\n",
       "      <td>-0.050717</td>\n",
       "      <td>-0.015682</td>\n",
       "      <td>-0.030097</td>\n",
       "      <td>-0.023816</td>\n",
       "      <td>-0.049266</td>\n",
       "      <td>0.008950</td>\n",
       "      <td>0.233035</td>\n",
       "    </tr>\n",
       "    <tr>\n",
       "      <th>on road now</th>\n",
       "      <td>-0.030787</td>\n",
       "      <td>0.034113</td>\n",
       "      <td>1.000000</td>\n",
       "      <td>0.004609</td>\n",
       "      <td>-0.053202</td>\n",
       "      <td>0.028280</td>\n",
       "      <td>-0.005043</td>\n",
       "      <td>-0.015880</td>\n",
       "      <td>0.012699</td>\n",
       "      <td>-0.012719</td>\n",
       "      <td>0.017955</td>\n",
       "      <td>0.282793</td>\n",
       "    </tr>\n",
       "    <tr>\n",
       "      <th>years</th>\n",
       "      <td>-0.034255</td>\n",
       "      <td>0.007207</td>\n",
       "      <td>0.004609</td>\n",
       "      <td>1.000000</td>\n",
       "      <td>-0.002089</td>\n",
       "      <td>0.027285</td>\n",
       "      <td>0.053579</td>\n",
       "      <td>0.050220</td>\n",
       "      <td>0.025148</td>\n",
       "      <td>-0.003272</td>\n",
       "      <td>0.028859</td>\n",
       "      <td>-0.011854</td>\n",
       "    </tr>\n",
       "    <tr>\n",
       "      <th>km</th>\n",
       "      <td>0.047400</td>\n",
       "      <td>0.007488</td>\n",
       "      <td>-0.053202</td>\n",
       "      <td>-0.002089</td>\n",
       "      <td>1.000000</td>\n",
       "      <td>-0.039930</td>\n",
       "      <td>-0.013640</td>\n",
       "      <td>0.032680</td>\n",
       "      <td>0.026450</td>\n",
       "      <td>-0.052918</td>\n",
       "      <td>0.013566</td>\n",
       "      <td>-0.935924</td>\n",
       "    </tr>\n",
       "    <tr>\n",
       "      <th>rating</th>\n",
       "      <td>-0.018263</td>\n",
       "      <td>-0.050717</td>\n",
       "      <td>0.028280</td>\n",
       "      <td>0.027285</td>\n",
       "      <td>-0.039930</td>\n",
       "      <td>1.000000</td>\n",
       "      <td>0.015943</td>\n",
       "      <td>-0.009757</td>\n",
       "      <td>-0.042222</td>\n",
       "      <td>-0.022623</td>\n",
       "      <td>0.004408</td>\n",
       "      <td>0.035038</td>\n",
       "    </tr>\n",
       "    <tr>\n",
       "      <th>condition</th>\n",
       "      <td>-0.038548</td>\n",
       "      <td>-0.015682</td>\n",
       "      <td>-0.005043</td>\n",
       "      <td>0.053579</td>\n",
       "      <td>-0.013640</td>\n",
       "      <td>0.015943</td>\n",
       "      <td>1.000000</td>\n",
       "      <td>0.058788</td>\n",
       "      <td>0.018472</td>\n",
       "      <td>-0.071552</td>\n",
       "      <td>0.047805</td>\n",
       "      <td>0.110108</td>\n",
       "    </tr>\n",
       "    <tr>\n",
       "      <th>economy</th>\n",
       "      <td>0.047137</td>\n",
       "      <td>-0.030097</td>\n",
       "      <td>-0.015880</td>\n",
       "      <td>0.050220</td>\n",
       "      <td>0.032680</td>\n",
       "      <td>-0.009757</td>\n",
       "      <td>0.058788</td>\n",
       "      <td>1.000000</td>\n",
       "      <td>-0.059402</td>\n",
       "      <td>-0.016782</td>\n",
       "      <td>0.041632</td>\n",
       "      <td>-0.034711</td>\n",
       "    </tr>\n",
       "    <tr>\n",
       "      <th>top speed</th>\n",
       "      <td>0.001613</td>\n",
       "      <td>-0.023816</td>\n",
       "      <td>0.012699</td>\n",
       "      <td>0.025148</td>\n",
       "      <td>0.026450</td>\n",
       "      <td>-0.042222</td>\n",
       "      <td>0.018472</td>\n",
       "      <td>-0.059402</td>\n",
       "      <td>1.000000</td>\n",
       "      <td>0.057827</td>\n",
       "      <td>-0.019697</td>\n",
       "      <td>-0.027993</td>\n",
       "    </tr>\n",
       "    <tr>\n",
       "      <th>hp</th>\n",
       "      <td>-0.006997</td>\n",
       "      <td>-0.049266</td>\n",
       "      <td>-0.012719</td>\n",
       "      <td>-0.003272</td>\n",
       "      <td>-0.052918</td>\n",
       "      <td>-0.022623</td>\n",
       "      <td>-0.071552</td>\n",
       "      <td>-0.016782</td>\n",
       "      <td>0.057827</td>\n",
       "      <td>1.000000</td>\n",
       "      <td>-0.013817</td>\n",
       "      <td>0.030238</td>\n",
       "    </tr>\n",
       "    <tr>\n",
       "      <th>torque</th>\n",
       "      <td>-0.000632</td>\n",
       "      <td>0.008950</td>\n",
       "      <td>0.017955</td>\n",
       "      <td>0.028859</td>\n",
       "      <td>0.013566</td>\n",
       "      <td>0.004408</td>\n",
       "      <td>0.047805</td>\n",
       "      <td>0.041632</td>\n",
       "      <td>-0.019697</td>\n",
       "      <td>-0.013817</td>\n",
       "      <td>1.000000</td>\n",
       "      <td>-0.002290</td>\n",
       "    </tr>\n",
       "    <tr>\n",
       "      <th>current price</th>\n",
       "      <td>-0.059460</td>\n",
       "      <td>0.233035</td>\n",
       "      <td>0.282793</td>\n",
       "      <td>-0.011854</td>\n",
       "      <td>-0.935924</td>\n",
       "      <td>0.035038</td>\n",
       "      <td>0.110108</td>\n",
       "      <td>-0.034711</td>\n",
       "      <td>-0.027993</td>\n",
       "      <td>0.030238</td>\n",
       "      <td>-0.002290</td>\n",
       "      <td>1.000000</td>\n",
       "    </tr>\n",
       "  </tbody>\n",
       "</table>\n",
       "</div>"
      ],
      "text/plain": [
       "                   v.id  on road old  on road now     years        km  \\\n",
       "v.id           1.000000    -0.029926    -0.030787 -0.034255  0.047400   \n",
       "on road old   -0.029926     1.000000     0.034113  0.007207  0.007488   \n",
       "on road now   -0.030787     0.034113     1.000000  0.004609 -0.053202   \n",
       "years         -0.034255     0.007207     0.004609  1.000000 -0.002089   \n",
       "km             0.047400     0.007488    -0.053202 -0.002089  1.000000   \n",
       "rating        -0.018263    -0.050717     0.028280  0.027285 -0.039930   \n",
       "condition     -0.038548    -0.015682    -0.005043  0.053579 -0.013640   \n",
       "economy        0.047137    -0.030097    -0.015880  0.050220  0.032680   \n",
       "top speed      0.001613    -0.023816     0.012699  0.025148  0.026450   \n",
       "hp            -0.006997    -0.049266    -0.012719 -0.003272 -0.052918   \n",
       "torque        -0.000632     0.008950     0.017955  0.028859  0.013566   \n",
       "current price -0.059460     0.233035     0.282793 -0.011854 -0.935924   \n",
       "\n",
       "                 rating  condition   economy  top speed        hp    torque  \\\n",
       "v.id          -0.018263  -0.038548  0.047137   0.001613 -0.006997 -0.000632   \n",
       "on road old   -0.050717  -0.015682 -0.030097  -0.023816 -0.049266  0.008950   \n",
       "on road now    0.028280  -0.005043 -0.015880   0.012699 -0.012719  0.017955   \n",
       "years          0.027285   0.053579  0.050220   0.025148 -0.003272  0.028859   \n",
       "km            -0.039930  -0.013640  0.032680   0.026450 -0.052918  0.013566   \n",
       "rating         1.000000   0.015943 -0.009757  -0.042222 -0.022623  0.004408   \n",
       "condition      0.015943   1.000000  0.058788   0.018472 -0.071552  0.047805   \n",
       "economy       -0.009757   0.058788  1.000000  -0.059402 -0.016782  0.041632   \n",
       "top speed     -0.042222   0.018472 -0.059402   1.000000  0.057827 -0.019697   \n",
       "hp            -0.022623  -0.071552 -0.016782   0.057827  1.000000 -0.013817   \n",
       "torque         0.004408   0.047805  0.041632  -0.019697 -0.013817  1.000000   \n",
       "current price  0.035038   0.110108 -0.034711  -0.027993  0.030238 -0.002290   \n",
       "\n",
       "               current price  \n",
       "v.id               -0.059460  \n",
       "on road old         0.233035  \n",
       "on road now         0.282793  \n",
       "years              -0.011854  \n",
       "km                 -0.935924  \n",
       "rating              0.035038  \n",
       "condition           0.110108  \n",
       "economy            -0.034711  \n",
       "top speed          -0.027993  \n",
       "hp                  0.030238  \n",
       "torque             -0.002290  \n",
       "current price       1.000000  "
      ]
     },
     "execution_count": 4,
     "metadata": {},
     "output_type": "execute_result"
    }
   ],
   "source": [
    "used_car_data.corr()"
   ]
  },
  {
   "cell_type": "code",
   "execution_count": 7,
   "id": "7bbf693d",
   "metadata": {},
   "outputs": [],
   "source": [
    "# to get an idea on how relevant rating and condition columns are in this dataset\n",
    "used_car_data['price drop %'] = (used_car_data['on road old']-used_car_data['current price'])/used_car_data['on road old']\n",
    "\n",
    "used_car_data['cheaper to new %'] = (used_car_data['on road now']-used_car_data['current price'])/used_car_data['on road now']\n"
   ]
  },
  {
   "cell_type": "code",
   "execution_count": 9,
   "id": "dd8e2b91",
   "metadata": {},
   "outputs": [
    {
     "data": {
      "text/html": [
       "<div>\n",
       "<style scoped>\n",
       "    .dataframe tbody tr th:only-of-type {\n",
       "        vertical-align: middle;\n",
       "    }\n",
       "\n",
       "    .dataframe tbody tr th {\n",
       "        vertical-align: top;\n",
       "    }\n",
       "\n",
       "    .dataframe thead th {\n",
       "        text-align: right;\n",
       "    }\n",
       "</style>\n",
       "<table border=\"1\" class=\"dataframe\">\n",
       "  <thead>\n",
       "    <tr style=\"text-align: right;\">\n",
       "      <th></th>\n",
       "      <th>on road old</th>\n",
       "      <th>on road now</th>\n",
       "      <th>current price</th>\n",
       "      <th>price drop %</th>\n",
       "      <th>cheaper to new %</th>\n",
       "    </tr>\n",
       "    <tr>\n",
       "      <th>condition</th>\n",
       "      <th></th>\n",
       "      <th></th>\n",
       "      <th></th>\n",
       "      <th></th>\n",
       "      <th></th>\n",
       "    </tr>\n",
       "  </thead>\n",
       "  <tbody>\n",
       "    <tr>\n",
       "      <th>1</th>\n",
       "      <td>611306.510417</td>\n",
       "      <td>803449.437500</td>\n",
       "      <td>300204.156250</td>\n",
       "      <td>0.507782</td>\n",
       "      <td>0.628881</td>\n",
       "    </tr>\n",
       "    <tr>\n",
       "      <th>2</th>\n",
       "      <td>604543.318182</td>\n",
       "      <td>803124.261364</td>\n",
       "      <td>305159.181818</td>\n",
       "      <td>0.498916</td>\n",
       "      <td>0.617646</td>\n",
       "    </tr>\n",
       "    <tr>\n",
       "      <th>3</th>\n",
       "      <td>590461.547368</td>\n",
       "      <td>795810.442105</td>\n",
       "      <td>287447.600000</td>\n",
       "      <td>0.513494</td>\n",
       "      <td>0.639548</td>\n",
       "    </tr>\n",
       "    <tr>\n",
       "      <th>4</th>\n",
       "      <td>605586.924731</td>\n",
       "      <td>797045.225806</td>\n",
       "      <td>291880.182796</td>\n",
       "      <td>0.515775</td>\n",
       "      <td>0.633306</td>\n",
       "    </tr>\n",
       "    <tr>\n",
       "      <th>5</th>\n",
       "      <td>603433.688073</td>\n",
       "      <td>794010.422018</td>\n",
       "      <td>297117.229358</td>\n",
       "      <td>0.506634</td>\n",
       "      <td>0.628387</td>\n",
       "    </tr>\n",
       "    <tr>\n",
       "      <th>6</th>\n",
       "      <td>597238.144068</td>\n",
       "      <td>792494.805085</td>\n",
       "      <td>298804.411017</td>\n",
       "      <td>0.496582</td>\n",
       "      <td>0.625985</td>\n",
       "    </tr>\n",
       "    <tr>\n",
       "      <th>7</th>\n",
       "      <td>591114.062500</td>\n",
       "      <td>809409.208333</td>\n",
       "      <td>308089.260417</td>\n",
       "      <td>0.477962</td>\n",
       "      <td>0.620537</td>\n",
       "    </tr>\n",
       "    <tr>\n",
       "      <th>8</th>\n",
       "      <td>606050.010000</td>\n",
       "      <td>800963.310000</td>\n",
       "      <td>314302.645000</td>\n",
       "      <td>0.481170</td>\n",
       "      <td>0.609986</td>\n",
       "    </tr>\n",
       "    <tr>\n",
       "      <th>9</th>\n",
       "      <td>607943.875000</td>\n",
       "      <td>801268.321429</td>\n",
       "      <td>339313.821429</td>\n",
       "      <td>0.443937</td>\n",
       "      <td>0.578681</td>\n",
       "    </tr>\n",
       "    <tr>\n",
       "      <th>10</th>\n",
       "      <td>598490.107527</td>\n",
       "      <td>795644.387097</td>\n",
       "      <td>341285.768817</td>\n",
       "      <td>0.431606</td>\n",
       "      <td>0.570553</td>\n",
       "    </tr>\n",
       "  </tbody>\n",
       "</table>\n",
       "</div>"
      ],
      "text/plain": [
       "             on road old    on road now  current price  price drop %  \\\n",
       "condition                                                              \n",
       "1          611306.510417  803449.437500  300204.156250      0.507782   \n",
       "2          604543.318182  803124.261364  305159.181818      0.498916   \n",
       "3          590461.547368  795810.442105  287447.600000      0.513494   \n",
       "4          605586.924731  797045.225806  291880.182796      0.515775   \n",
       "5          603433.688073  794010.422018  297117.229358      0.506634   \n",
       "6          597238.144068  792494.805085  298804.411017      0.496582   \n",
       "7          591114.062500  809409.208333  308089.260417      0.477962   \n",
       "8          606050.010000  800963.310000  314302.645000      0.481170   \n",
       "9          607943.875000  801268.321429  339313.821429      0.443937   \n",
       "10         598490.107527  795644.387097  341285.768817      0.431606   \n",
       "\n",
       "           cheaper to new %  \n",
       "condition                    \n",
       "1                  0.628881  \n",
       "2                  0.617646  \n",
       "3                  0.639548  \n",
       "4                  0.633306  \n",
       "5                  0.628387  \n",
       "6                  0.625985  \n",
       "7                  0.620537  \n",
       "8                  0.609986  \n",
       "9                  0.578681  \n",
       "10                 0.570553  "
      ]
     },
     "execution_count": 9,
     "metadata": {},
     "output_type": "execute_result"
    }
   ],
   "source": [
    "used_car_data.groupby(by=['condition'])[['on road old','on road now','current price','price drop %','cheaper to new %']].mean()\n"
   ]
  },
  {
   "cell_type": "code",
   "execution_count": 10,
   "id": "deadeb88",
   "metadata": {},
   "outputs": [
    {
     "data": {
      "text/html": [
       "<div>\n",
       "<style scoped>\n",
       "    .dataframe tbody tr th:only-of-type {\n",
       "        vertical-align: middle;\n",
       "    }\n",
       "\n",
       "    .dataframe tbody tr th {\n",
       "        vertical-align: top;\n",
       "    }\n",
       "\n",
       "    .dataframe thead th {\n",
       "        text-align: right;\n",
       "    }\n",
       "</style>\n",
       "<table border=\"1\" class=\"dataframe\">\n",
       "  <thead>\n",
       "    <tr style=\"text-align: right;\">\n",
       "      <th></th>\n",
       "      <th>on road old</th>\n",
       "      <th>on road now</th>\n",
       "      <th>current price</th>\n",
       "      <th>price drop %</th>\n",
       "      <th>cheaper to new %</th>\n",
       "    </tr>\n",
       "    <tr>\n",
       "      <th>rating</th>\n",
       "      <th></th>\n",
       "      <th></th>\n",
       "      <th></th>\n",
       "      <th></th>\n",
       "      <th></th>\n",
       "    </tr>\n",
       "  </thead>\n",
       "  <tbody>\n",
       "    <tr>\n",
       "      <th>1</th>\n",
       "      <td>605676.840796</td>\n",
       "      <td>795034.213930</td>\n",
       "      <td>303214.502488</td>\n",
       "      <td>0.499021</td>\n",
       "      <td>0.619481</td>\n",
       "    </tr>\n",
       "    <tr>\n",
       "      <th>2</th>\n",
       "      <td>606849.497462</td>\n",
       "      <td>800263.131980</td>\n",
       "      <td>298811.502538</td>\n",
       "      <td>0.509538</td>\n",
       "      <td>0.627307</td>\n",
       "    </tr>\n",
       "    <tr>\n",
       "      <th>3</th>\n",
       "      <td>598712.504902</td>\n",
       "      <td>804405.784314</td>\n",
       "      <td>314609.504902</td>\n",
       "      <td>0.475147</td>\n",
       "      <td>0.611485</td>\n",
       "    </tr>\n",
       "    <tr>\n",
       "      <th>4</th>\n",
       "      <td>597036.827751</td>\n",
       "      <td>790582.138756</td>\n",
       "      <td>314878.672249</td>\n",
       "      <td>0.474394</td>\n",
       "      <td>0.603669</td>\n",
       "    </tr>\n",
       "    <tr>\n",
       "      <th>5</th>\n",
       "      <td>600210.804233</td>\n",
       "      <td>806070.031746</td>\n",
       "      <td>310678.730159</td>\n",
       "      <td>0.477893</td>\n",
       "      <td>0.614703</td>\n",
       "    </tr>\n",
       "  </tbody>\n",
       "</table>\n",
       "</div>"
      ],
      "text/plain": [
       "          on road old    on road now  current price  price drop %  \\\n",
       "rating                                                              \n",
       "1       605676.840796  795034.213930  303214.502488      0.499021   \n",
       "2       606849.497462  800263.131980  298811.502538      0.509538   \n",
       "3       598712.504902  804405.784314  314609.504902      0.475147   \n",
       "4       597036.827751  790582.138756  314878.672249      0.474394   \n",
       "5       600210.804233  806070.031746  310678.730159      0.477893   \n",
       "\n",
       "        cheaper to new %  \n",
       "rating                    \n",
       "1               0.619481  \n",
       "2               0.627307  \n",
       "3               0.611485  \n",
       "4               0.603669  \n",
       "5               0.614703  "
      ]
     },
     "execution_count": 10,
     "metadata": {},
     "output_type": "execute_result"
    }
   ],
   "source": [
    "used_car_data.groupby(by=['rating'])[['on road old','on road now','current price','price drop %','cheaper to new %']].mean()\n"
   ]
  },
  {
   "cell_type": "markdown",
   "id": "e2d89c1d",
   "metadata": {},
   "source": [
    "As per the above, we can conclude that condition of the car has some effect on the the current price w.r.t. old on-road or new on-road price\n",
    "\n",
    "While rating has no effect on the target variable"
   ]
  },
  {
   "cell_type": "code",
   "execution_count": 11,
   "id": "aac0a809",
   "metadata": {},
   "outputs": [
    {
     "data": {
      "text/plain": [
       "(1000, 14)"
      ]
     },
     "execution_count": 11,
     "metadata": {},
     "output_type": "execute_result"
    }
   ],
   "source": [
    "used_car_data.shape"
   ]
  },
  {
   "cell_type": "code",
   "execution_count": 13,
   "id": "9e4f91ae",
   "metadata": {},
   "outputs": [
    {
     "data": {
      "text/plain": [
       "1000"
      ]
     },
     "execution_count": 13,
     "metadata": {},
     "output_type": "execute_result"
    }
   ],
   "source": [
    "len(used_car_data)"
   ]
  },
  {
   "cell_type": "code",
   "execution_count": 44,
   "id": "072a718d",
   "metadata": {},
   "outputs": [
    {
     "data": {
      "text/html": [
       "<div>\n",
       "<style scoped>\n",
       "    .dataframe tbody tr th:only-of-type {\n",
       "        vertical-align: middle;\n",
       "    }\n",
       "\n",
       "    .dataframe tbody tr th {\n",
       "        vertical-align: top;\n",
       "    }\n",
       "\n",
       "    .dataframe thead th {\n",
       "        text-align: right;\n",
       "    }\n",
       "</style>\n",
       "<table border=\"1\" class=\"dataframe\">\n",
       "  <thead>\n",
       "    <tr style=\"text-align: right;\">\n",
       "      <th></th>\n",
       "      <th>on road old</th>\n",
       "      <th>on road now</th>\n",
       "      <th>years</th>\n",
       "      <th>km</th>\n",
       "      <th>rating</th>\n",
       "      <th>condition</th>\n",
       "      <th>economy</th>\n",
       "      <th>top speed</th>\n",
       "      <th>hp</th>\n",
       "      <th>torque</th>\n",
       "    </tr>\n",
       "  </thead>\n",
       "  <tbody>\n",
       "    <tr>\n",
       "      <th>0</th>\n",
       "      <td>535651</td>\n",
       "      <td>798186</td>\n",
       "      <td>3</td>\n",
       "      <td>78945</td>\n",
       "      <td>1</td>\n",
       "      <td>2</td>\n",
       "      <td>14</td>\n",
       "      <td>177</td>\n",
       "      <td>73</td>\n",
       "      <td>123</td>\n",
       "    </tr>\n",
       "    <tr>\n",
       "      <th>1</th>\n",
       "      <td>591911</td>\n",
       "      <td>861056</td>\n",
       "      <td>6</td>\n",
       "      <td>117220</td>\n",
       "      <td>5</td>\n",
       "      <td>9</td>\n",
       "      <td>9</td>\n",
       "      <td>148</td>\n",
       "      <td>74</td>\n",
       "      <td>95</td>\n",
       "    </tr>\n",
       "    <tr>\n",
       "      <th>2</th>\n",
       "      <td>686990</td>\n",
       "      <td>770762</td>\n",
       "      <td>2</td>\n",
       "      <td>132538</td>\n",
       "      <td>2</td>\n",
       "      <td>8</td>\n",
       "      <td>15</td>\n",
       "      <td>181</td>\n",
       "      <td>53</td>\n",
       "      <td>97</td>\n",
       "    </tr>\n",
       "    <tr>\n",
       "      <th>3</th>\n",
       "      <td>573999</td>\n",
       "      <td>722381</td>\n",
       "      <td>4</td>\n",
       "      <td>101065</td>\n",
       "      <td>4</td>\n",
       "      <td>3</td>\n",
       "      <td>11</td>\n",
       "      <td>197</td>\n",
       "      <td>54</td>\n",
       "      <td>116</td>\n",
       "    </tr>\n",
       "    <tr>\n",
       "      <th>4</th>\n",
       "      <td>691388</td>\n",
       "      <td>811335</td>\n",
       "      <td>6</td>\n",
       "      <td>61559</td>\n",
       "      <td>3</td>\n",
       "      <td>9</td>\n",
       "      <td>12</td>\n",
       "      <td>160</td>\n",
       "      <td>53</td>\n",
       "      <td>105</td>\n",
       "    </tr>\n",
       "    <tr>\n",
       "      <th>...</th>\n",
       "      <td>...</td>\n",
       "      <td>...</td>\n",
       "      <td>...</td>\n",
       "      <td>...</td>\n",
       "      <td>...</td>\n",
       "      <td>...</td>\n",
       "      <td>...</td>\n",
       "      <td>...</td>\n",
       "      <td>...</td>\n",
       "      <td>...</td>\n",
       "    </tr>\n",
       "    <tr>\n",
       "      <th>995</th>\n",
       "      <td>633238</td>\n",
       "      <td>743850</td>\n",
       "      <td>5</td>\n",
       "      <td>125092</td>\n",
       "      <td>1</td>\n",
       "      <td>6</td>\n",
       "      <td>11</td>\n",
       "      <td>171</td>\n",
       "      <td>95</td>\n",
       "      <td>97</td>\n",
       "    </tr>\n",
       "    <tr>\n",
       "      <th>996</th>\n",
       "      <td>599626</td>\n",
       "      <td>848195</td>\n",
       "      <td>4</td>\n",
       "      <td>83370</td>\n",
       "      <td>2</td>\n",
       "      <td>9</td>\n",
       "      <td>14</td>\n",
       "      <td>161</td>\n",
       "      <td>101</td>\n",
       "      <td>120</td>\n",
       "    </tr>\n",
       "    <tr>\n",
       "      <th>997</th>\n",
       "      <td>646344</td>\n",
       "      <td>842733</td>\n",
       "      <td>7</td>\n",
       "      <td>86722</td>\n",
       "      <td>1</td>\n",
       "      <td>8</td>\n",
       "      <td>9</td>\n",
       "      <td>196</td>\n",
       "      <td>113</td>\n",
       "      <td>89</td>\n",
       "    </tr>\n",
       "    <tr>\n",
       "      <th>998</th>\n",
       "      <td>535559</td>\n",
       "      <td>732439</td>\n",
       "      <td>2</td>\n",
       "      <td>140478</td>\n",
       "      <td>4</td>\n",
       "      <td>5</td>\n",
       "      <td>9</td>\n",
       "      <td>184</td>\n",
       "      <td>112</td>\n",
       "      <td>128</td>\n",
       "    </tr>\n",
       "    <tr>\n",
       "      <th>999</th>\n",
       "      <td>590105</td>\n",
       "      <td>779743</td>\n",
       "      <td>5</td>\n",
       "      <td>67295</td>\n",
       "      <td>4</td>\n",
       "      <td>2</td>\n",
       "      <td>8</td>\n",
       "      <td>199</td>\n",
       "      <td>99</td>\n",
       "      <td>96</td>\n",
       "    </tr>\n",
       "  </tbody>\n",
       "</table>\n",
       "<p>1000 rows × 10 columns</p>\n",
       "</div>"
      ],
      "text/plain": [
       "     on road old  on road now  years      km  rating  condition  economy  \\\n",
       "0         535651       798186      3   78945       1          2       14   \n",
       "1         591911       861056      6  117220       5          9        9   \n",
       "2         686990       770762      2  132538       2          8       15   \n",
       "3         573999       722381      4  101065       4          3       11   \n",
       "4         691388       811335      6   61559       3          9       12   \n",
       "..           ...          ...    ...     ...     ...        ...      ...   \n",
       "995       633238       743850      5  125092       1          6       11   \n",
       "996       599626       848195      4   83370       2          9       14   \n",
       "997       646344       842733      7   86722       1          8        9   \n",
       "998       535559       732439      2  140478       4          5        9   \n",
       "999       590105       779743      5   67295       4          2        8   \n",
       "\n",
       "     top speed   hp  torque  \n",
       "0          177   73     123  \n",
       "1          148   74      95  \n",
       "2          181   53      97  \n",
       "3          197   54     116  \n",
       "4          160   53     105  \n",
       "..         ...  ...     ...  \n",
       "995        171   95      97  \n",
       "996        161  101     120  \n",
       "997        196  113      89  \n",
       "998        184  112     128  \n",
       "999        199   99      96  \n",
       "\n",
       "[1000 rows x 10 columns]"
      ]
     },
     "execution_count": 44,
     "metadata": {},
     "output_type": "execute_result"
    }
   ],
   "source": [
    "used_car_data.iloc[:,1:-3]"
   ]
  },
  {
   "cell_type": "code",
   "execution_count": 47,
   "id": "4877ca18",
   "metadata": {},
   "outputs": [
    {
     "data": {
      "text/plain": [
       "10"
      ]
     },
     "execution_count": 47,
     "metadata": {},
     "output_type": "execute_result"
    }
   ],
   "source": [
    "no_of_features = used_car_data.iloc[:,1:-3].shape[-1]\n",
    "no_of_features"
   ]
  },
  {
   "cell_type": "code",
   "execution_count": 45,
   "id": "78152070",
   "metadata": {},
   "outputs": [
    {
     "data": {
      "text/html": [
       "<div>\n",
       "<style scoped>\n",
       "    .dataframe tbody tr th:only-of-type {\n",
       "        vertical-align: middle;\n",
       "    }\n",
       "\n",
       "    .dataframe tbody tr th {\n",
       "        vertical-align: top;\n",
       "    }\n",
       "\n",
       "    .dataframe thead th {\n",
       "        text-align: right;\n",
       "    }\n",
       "</style>\n",
       "<table border=\"1\" class=\"dataframe\">\n",
       "  <thead>\n",
       "    <tr style=\"text-align: right;\">\n",
       "      <th></th>\n",
       "      <th>current price</th>\n",
       "    </tr>\n",
       "  </thead>\n",
       "  <tbody>\n",
       "    <tr>\n",
       "      <th>0</th>\n",
       "      <td>351318.0</td>\n",
       "    </tr>\n",
       "    <tr>\n",
       "      <th>1</th>\n",
       "      <td>285001.5</td>\n",
       "    </tr>\n",
       "    <tr>\n",
       "      <th>2</th>\n",
       "      <td>215386.0</td>\n",
       "    </tr>\n",
       "    <tr>\n",
       "      <th>3</th>\n",
       "      <td>244295.5</td>\n",
       "    </tr>\n",
       "    <tr>\n",
       "      <th>4</th>\n",
       "      <td>531114.5</td>\n",
       "    </tr>\n",
       "    <tr>\n",
       "      <th>...</th>\n",
       "      <td>...</td>\n",
       "    </tr>\n",
       "    <tr>\n",
       "      <th>995</th>\n",
       "      <td>190744.0</td>\n",
       "    </tr>\n",
       "    <tr>\n",
       "      <th>996</th>\n",
       "      <td>419748.0</td>\n",
       "    </tr>\n",
       "    <tr>\n",
       "      <th>997</th>\n",
       "      <td>405871.0</td>\n",
       "    </tr>\n",
       "    <tr>\n",
       "      <th>998</th>\n",
       "      <td>74398.0</td>\n",
       "    </tr>\n",
       "    <tr>\n",
       "      <th>999</th>\n",
       "      <td>414938.5</td>\n",
       "    </tr>\n",
       "  </tbody>\n",
       "</table>\n",
       "<p>1000 rows × 1 columns</p>\n",
       "</div>"
      ],
      "text/plain": [
       "     current price\n",
       "0         351318.0\n",
       "1         285001.5\n",
       "2         215386.0\n",
       "3         244295.5\n",
       "4         531114.5\n",
       "..             ...\n",
       "995       190744.0\n",
       "996       419748.0\n",
       "997       405871.0\n",
       "998        74398.0\n",
       "999       414938.5\n",
       "\n",
       "[1000 rows x 1 columns]"
      ]
     },
     "execution_count": 45,
     "metadata": {},
     "output_type": "execute_result"
    }
   ],
   "source": [
    "used_car_data.iloc[:,-3].to_frame()"
   ]
  },
  {
   "cell_type": "code",
   "execution_count": 15,
   "id": "67033f66",
   "metadata": {
    "scrolled": false
   },
   "outputs": [
    {
     "name": "stdout",
     "output_type": "stream",
     "text": [
      "tf.Tensor([535651 798186      3  78945      1      2     14    177     73    123], shape=(10,), dtype=int64)\n",
      "tf.Tensor(351318.0, shape=(), dtype=float64)\n",
      "tf.Tensor([591911 861056      6 117220      5      9      9    148     74     95], shape=(10,), dtype=int64)\n",
      "tf.Tensor(285001.5, shape=(), dtype=float64)\n",
      "tf.Tensor([686990 770762      2 132538      2      8     15    181     53     97], shape=(10,), dtype=int64)\n",
      "tf.Tensor(215386.0, shape=(), dtype=float64)\n"
     ]
    },
    {
     "name": "stderr",
     "output_type": "stream",
     "text": [
      "2025-07-26 16:47:58.171548: W tensorflow/core/framework/local_rendezvous.cc:404] Local rendezvous is aborting with status: OUT_OF_RANGE: End of sequence\n"
     ]
    }
   ],
   "source": [
    "# to work completely on tensorflow/keras libraries, need to create a tensorflow dataset, \n",
    "# it is much efficient in computation on large datasets, but reduces the flexibility to access data easily\n",
    "tensor_dataset = tf.data.Dataset.from_tensor_slices((used_car_data.iloc[:,1:-3],used_car_data.iloc[:,-3]))\n",
    "for x,y in tensor_dataset.take(3):\n",
    "    print(x)\n",
    "    print(y)"
   ]
  },
  {
   "cell_type": "code",
   "execution_count": 16,
   "id": "62bfed4d",
   "metadata": {},
   "outputs": [
    {
     "name": "stderr",
     "output_type": "stream",
     "text": [
      "2025-07-26 16:47:58.216709: W tensorflow/core/framework/local_rendezvous.cc:404] Local rendezvous is aborting with status: OUT_OF_RANGE: End of sequence\n"
     ]
    }
   ],
   "source": [
    "train_set,test_set  = tf.keras.utils.split_dataset(dataset=tensor_dataset,left_size=0.75,shuffle=True,seed=42)"
   ]
  },
  {
   "cell_type": "code",
   "execution_count": 17,
   "id": "2b77670d",
   "metadata": {},
   "outputs": [
    {
     "name": "stdout",
     "output_type": "stream",
     "text": [
      "tf.Tensor([693495 830322      6  77570      5      3      9    182    109     79], shape=(10,), dtype=int64)\n",
      "tf.Tensor(449650.0, shape=(), dtype=float64)\n",
      "tf.Tensor([502281 759393      7  61910      5      4     10    162    113    106], shape=(10,), dtype=int64)\n",
      "tf.Tensor(377108.5, shape=(), dtype=float64)\n",
      "tf.Tensor([522690 700733      3  62161      1      2      8    170    120     94], shape=(10,), dtype=int64)\n",
      "tf.Tensor(363186.5, shape=(), dtype=float64)\n"
     ]
    },
    {
     "name": "stderr",
     "output_type": "stream",
     "text": [
      "2025-07-26 16:47:58.233261: W tensorflow/core/framework/local_rendezvous.cc:404] Local rendezvous is aborting with status: OUT_OF_RANGE: End of sequence\n"
     ]
    }
   ],
   "source": [
    "for x,y in train_set.take(3):\n",
    "    print(x)\n",
    "    print(y)"
   ]
  },
  {
   "cell_type": "code",
   "execution_count": 95,
   "id": "68b3762d",
   "metadata": {},
   "outputs": [],
   "source": [
    "def train_cv_test_split(data,train_ratio,cv_ratio):\n",
    "    if train_ratio<1 and cv_ratio<1 and train_ratio+cv_ratio<1:\n",
    "        train , intermediate = tf.keras.utils.split_dataset(dataset=data,\n",
    "                                                        left_size=train_ratio,shuffle=True,seed=42)\n",
    "        cv , test = tf.keras.utils.split_dataset(dataset=intermediate,\n",
    "                                                 left_size=int(cv_ratio*tensor_dataset.cardinality().numpy()))\n",
    "        return train, cv, test\n",
    "    else:\n",
    "        return \"Ratio not appropriate\""
   ]
  },
  {
   "cell_type": "code",
   "execution_count": 96,
   "id": "f22c7545",
   "metadata": {},
   "outputs": [
    {
     "name": "stdout",
     "output_type": "stream",
     "text": [
      "Ratio not appropriate\n"
     ]
    }
   ],
   "source": [
    "try :\n",
    "    train_set, cv_set, test_set = train_cv_test_split(tensor_dataset,train_ratio=0.9,cv_ratio=0.1)\n",
    "    repeat = False\n",
    "except ValueError:\n",
    "    print(train_cv_test_split(True,True, True))\n",
    "    repeat = True"
   ]
  },
  {
   "cell_type": "code",
   "execution_count": 97,
   "id": "424972b6",
   "metadata": {},
   "outputs": [
    {
     "name": "stderr",
     "output_type": "stream",
     "text": [
      "2025-07-26 18:55:11.809439: W tensorflow/core/framework/local_rendezvous.cc:404] Local rendezvous is aborting with status: OUT_OF_RANGE: End of sequence\n",
      "2025-07-26 18:55:11.836807: W tensorflow/core/framework/local_rendezvous.cc:404] Local rendezvous is aborting with status: OUT_OF_RANGE: End of sequence\n"
     ]
    }
   ],
   "source": [
    "try :\n",
    "    train_set, cv_set, test_set = train_cv_test_split(tensor_dataset,train_ratio=0.7,cv_ratio=0.15)\n",
    "except ValueError:\n",
    "    print(train_cv_test_split(True,True, True)) "
   ]
  },
  {
   "cell_type": "code",
   "execution_count": 102,
   "id": "1d6db374",
   "metadata": {},
   "outputs": [
    {
     "name": "stdout",
     "output_type": "stream",
     "text": [
      "Samples in \n",
      "Train set : 700\n",
      "CV set : 150\n",
      "Test set : 150\n"
     ]
    }
   ],
   "source": [
    "print(f'Samples in \\nTrain set : {train_set.cardinality().numpy()}\\nCV set : {cv_set.cardinality().numpy()}\\nTest set : {test_set.cardinality().numpy()}')\n"
   ]
  },
  {
   "cell_type": "markdown",
   "id": "17918989",
   "metadata": {},
   "source": [
    "* Normalization in Tensorflow/Keras is Standardization (StandardScaler from sklearn), i.e (X-X_mean)/X_StdDeviation\n",
    "* To perform Min_Max (Normalization) scaling (MinMaxScaler from sklearn), need to write custom code, i.e (X-X_min)/(X_max-X_min)"
   ]
  },
  {
   "cell_type": "code",
   "execution_count": 103,
   "id": "cda594e5",
   "metadata": {},
   "outputs": [
    {
     "name": "stderr",
     "output_type": "stream",
     "text": [
      "2025-07-26 18:58:39.644909: W tensorflow/core/framework/local_rendezvous.cc:404] Local rendezvous is aborting with status: OUT_OF_RANGE: End of sequence\n"
     ]
    }
   ],
   "source": [
    "normaliser = tf.keras.layers.Normalization(axis=-1)\n",
    "normaliser.adapt(train_set.map(lambda x,y : x))"
   ]
  },
  {
   "cell_type": "code",
   "execution_count": 104,
   "id": "ec5adbc0",
   "metadata": {},
   "outputs": [],
   "source": [
    "# making sure that only features are normalised, and not the target \n",
    "def apply_normalisation(x,y):\n",
    "    return normaliser(x),y"
   ]
  },
  {
   "cell_type": "code",
   "execution_count": 105,
   "id": "ba8c975a",
   "metadata": {},
   "outputs": [],
   "source": [
    "train_set = train_set.map(apply_normalisation)"
   ]
  },
  {
   "cell_type": "code",
   "execution_count": 106,
   "id": "0ca952a3",
   "metadata": {},
   "outputs": [
    {
     "name": "stdout",
     "output_type": "stream",
     "text": [
      "tf.Tensor(\n",
      "[[ 1.53086     0.5347985   0.8043479  -0.79053515  1.435701   -0.9191458\n",
      "  -1.191023    0.79848737  1.2174097  -1.1238242 ]], shape=(1, 10), dtype=float32)\n",
      "tf.Tensor(449650.0, shape=(), dtype=float64)\n",
      "tf.Tensor(\n",
      "[[-1.7302333  -0.7056032   1.3824214  -1.331179    1.435701   -0.562295\n",
      "  -0.74036574 -0.23620598  1.4135401   0.16112892]], shape=(1, 10), dtype=float32)\n",
      "tf.Tensor(377108.5, shape=(), dtype=float64)\n",
      "tf.Tensor(\n",
      "[[-1.3821645  -1.7314454  -0.9298725  -1.3225135  -1.4032557  -1.2759966\n",
      "  -1.6416804   0.17767134  1.7567685  -0.40996137]], shape=(1, 10), dtype=float32)\n",
      "tf.Tensor(363186.5, shape=(), dtype=float64)\n"
     ]
    },
    {
     "name": "stderr",
     "output_type": "stream",
     "text": [
      "2025-07-26 18:58:39.675130: W tensorflow/core/framework/local_rendezvous.cc:404] Local rendezvous is aborting with status: OUT_OF_RANGE: End of sequence\n"
     ]
    }
   ],
   "source": [
    "# extra dimension has been added, i.e. features size gone to (1,10) from (10,)\n",
    "for x,y in train_set.take(3):\n",
    "    print(x)\n",
    "    print(y)"
   ]
  },
  {
   "cell_type": "code",
   "execution_count": 107,
   "id": "7ff000d2",
   "metadata": {},
   "outputs": [
    {
     "data": {
      "text/plain": [
       "<tf.Tensor: shape=(10,), dtype=float32, numpy=\n",
       "array([-10.296497 , -13.985849 ,  -3.2016275,  -3.4685974,  -3.1089406,\n",
       "        -2.4450386,  -5.986774 ,  -8.60803  ,  -4.041007 ,  -4.9030123],\n",
       "      dtype=float32)>"
      ]
     },
     "execution_count": 107,
     "metadata": {},
     "output_type": "execute_result"
    }
   ],
   "source": [
    "tf.squeeze(normaliser(x))"
   ]
  },
  {
   "cell_type": "code",
   "execution_count": 108,
   "id": "9f873119",
   "metadata": {},
   "outputs": [],
   "source": [
    "# apply tf.squeeze to reduce the extra dimension\n",
    "def apply_normalisation(x,y):\n",
    "    return tf.squeeze(normaliser(x)),y"
   ]
  },
  {
   "cell_type": "code",
   "execution_count": 109,
   "id": "52956c9f",
   "metadata": {},
   "outputs": [],
   "source": [
    "train_set = train_set.map(apply_normalisation)"
   ]
  },
  {
   "cell_type": "code",
   "execution_count": 110,
   "id": "d6fa43f0",
   "metadata": {},
   "outputs": [
    {
     "name": "stdout",
     "output_type": "stream",
     "text": [
      "tf.Tensor(\n",
      "[-10.296449  -13.985808   -2.1991208  -3.468579   -1.0940216  -2.317696\n",
      "  -5.783682   -8.575912   -4.067453   -4.9369855], shape=(10,), dtype=float32)\n",
      "tf.Tensor(449650.0, shape=(), dtype=float64)\n",
      "tf.Tensor(\n",
      "[-10.296504  -13.98583    -1.8649517  -3.468598   -1.0940216  -2.1903536\n",
      "  -5.5805902  -8.629442   -4.057836   -4.875834 ], shape=(10,), dtype=float32)\n",
      "tf.Tensor(377108.5, shape=(), dtype=float64)\n",
      "tf.Tensor(\n",
      "[-10.296497  -13.985849   -3.2016275  -3.4685974  -3.1089406  -2.4450386\n",
      "  -5.986774   -8.60803    -4.041007   -4.9030123], shape=(10,), dtype=float32)\n",
      "tf.Tensor(363186.5, shape=(), dtype=float64)\n"
     ]
    },
    {
     "name": "stderr",
     "output_type": "stream",
     "text": [
      "2025-07-26 18:58:39.699538: W tensorflow/core/framework/local_rendezvous.cc:404] Local rendezvous is aborting with status: OUT_OF_RANGE: End of sequence\n"
     ]
    }
   ],
   "source": [
    "for x,y in train_set.take(3):\n",
    "    print(x)\n",
    "    print(y)"
   ]
  },
  {
   "cell_type": "code",
   "execution_count": 120,
   "id": "a5dae52e",
   "metadata": {},
   "outputs": [],
   "source": [
    "cv_set = cv_set.map(apply_normalisation)"
   ]
  },
  {
   "cell_type": "code",
   "execution_count": 121,
   "id": "accc97e0",
   "metadata": {},
   "outputs": [],
   "source": [
    "test_set = test_set.map(apply_normalisation)"
   ]
  },
  {
   "cell_type": "code",
   "execution_count": 134,
   "id": "0440cdd0",
   "metadata": {},
   "outputs": [],
   "source": [
    "# batch : Deliver data in mini-batches of BATCH_SIZE\n",
    "#           makes the computing efficient through parallel computing\n",
    "\n",
    "# cache : Stores the data and loads it quickly from a cache after the first epoch\n",
    "#           making subsequent iterations load the data from the cache, \n",
    "#           which is much faster than re-reading from the original source\n",
    "\n",
    "# prefetch(tf.data.AUTOTUNE) : Overlap data loading and model training to maximize efficiency.\n",
    "#                                Allows elements to be prefetched from the \n",
    "#                                input pipeline in the background while the model is training\n",
    "\n",
    "\n",
    "train_pipeline = train_set.batch(batch_size=32).cache().prefetch(tf.data.AUTOTUNE)\n",
    "cv_pipeline = cv_set.batch(batch_size=32).cache().prefetch(tf.data.AUTOTUNE)\n",
    "test_pipeline = test_set.batch(batch_size=32).cache().prefetch(tf.data.AUTOTUNE)"
   ]
  },
  {
   "cell_type": "code",
   "execution_count": 112,
   "id": "dd2aecdf",
   "metadata": {},
   "outputs": [
    {
     "data": {
      "text/html": [
       "<pre style=\"white-space:pre;overflow-x:auto;line-height:normal;font-family:Menlo,'DejaVu Sans Mono',consolas,'Courier New',monospace\"><span style=\"font-weight: bold\">Model: \"sequential_2\"</span>\n",
       "</pre>\n"
      ],
      "text/plain": [
       "\u001b[1mModel: \"sequential_2\"\u001b[0m\n"
      ]
     },
     "metadata": {},
     "output_type": "display_data"
    },
    {
     "data": {
      "text/html": [
       "<pre style=\"white-space:pre;overflow-x:auto;line-height:normal;font-family:Menlo,'DejaVu Sans Mono',consolas,'Courier New',monospace\">┏━━━━━━━━━━━━━━━━━━━━━━━━━━━━━━━━━┳━━━━━━━━━━━━━━━━━━━━━━━━┳━━━━━━━━━━━━━━━┓\n",
       "┃<span style=\"font-weight: bold\"> Layer (type)                    </span>┃<span style=\"font-weight: bold\"> Output Shape           </span>┃<span style=\"font-weight: bold\">       Param # </span>┃\n",
       "┡━━━━━━━━━━━━━━━━━━━━━━━━━━━━━━━━━╇━━━━━━━━━━━━━━━━━━━━━━━━╇━━━━━━━━━━━━━━━┩\n",
       "│ Layer_1 (<span style=\"color: #0087ff; text-decoration-color: #0087ff\">Dense</span>)                 │ (<span style=\"color: #00d7ff; text-decoration-color: #00d7ff\">None</span>, <span style=\"color: #00af00; text-decoration-color: #00af00\">128</span>)            │         <span style=\"color: #00af00; text-decoration-color: #00af00\">1,408</span> │\n",
       "├─────────────────────────────────┼────────────────────────┼───────────────┤\n",
       "│ Layer_2 (<span style=\"color: #0087ff; text-decoration-color: #0087ff\">Dense</span>)                 │ (<span style=\"color: #00d7ff; text-decoration-color: #00d7ff\">None</span>, <span style=\"color: #00af00; text-decoration-color: #00af00\">128</span>)            │        <span style=\"color: #00af00; text-decoration-color: #00af00\">16,512</span> │\n",
       "├─────────────────────────────────┼────────────────────────┼───────────────┤\n",
       "│ Layer_3 (<span style=\"color: #0087ff; text-decoration-color: #0087ff\">Dense</span>)                 │ (<span style=\"color: #00d7ff; text-decoration-color: #00d7ff\">None</span>, <span style=\"color: #00af00; text-decoration-color: #00af00\">64</span>)             │         <span style=\"color: #00af00; text-decoration-color: #00af00\">8,256</span> │\n",
       "├─────────────────────────────────┼────────────────────────┼───────────────┤\n",
       "│ Output_Layer (<span style=\"color: #0087ff; text-decoration-color: #0087ff\">Dense</span>)            │ (<span style=\"color: #00d7ff; text-decoration-color: #00d7ff\">None</span>, <span style=\"color: #00af00; text-decoration-color: #00af00\">1</span>)              │            <span style=\"color: #00af00; text-decoration-color: #00af00\">65</span> │\n",
       "└─────────────────────────────────┴────────────────────────┴───────────────┘\n",
       "</pre>\n"
      ],
      "text/plain": [
       "┏━━━━━━━━━━━━━━━━━━━━━━━━━━━━━━━━━┳━━━━━━━━━━━━━━━━━━━━━━━━┳━━━━━━━━━━━━━━━┓\n",
       "┃\u001b[1m \u001b[0m\u001b[1mLayer (type)                   \u001b[0m\u001b[1m \u001b[0m┃\u001b[1m \u001b[0m\u001b[1mOutput Shape          \u001b[0m\u001b[1m \u001b[0m┃\u001b[1m \u001b[0m\u001b[1m      Param #\u001b[0m\u001b[1m \u001b[0m┃\n",
       "┡━━━━━━━━━━━━━━━━━━━━━━━━━━━━━━━━━╇━━━━━━━━━━━━━━━━━━━━━━━━╇━━━━━━━━━━━━━━━┩\n",
       "│ Layer_1 (\u001b[38;5;33mDense\u001b[0m)                 │ (\u001b[38;5;45mNone\u001b[0m, \u001b[38;5;34m128\u001b[0m)            │         \u001b[38;5;34m1,408\u001b[0m │\n",
       "├─────────────────────────────────┼────────────────────────┼───────────────┤\n",
       "│ Layer_2 (\u001b[38;5;33mDense\u001b[0m)                 │ (\u001b[38;5;45mNone\u001b[0m, \u001b[38;5;34m128\u001b[0m)            │        \u001b[38;5;34m16,512\u001b[0m │\n",
       "├─────────────────────────────────┼────────────────────────┼───────────────┤\n",
       "│ Layer_3 (\u001b[38;5;33mDense\u001b[0m)                 │ (\u001b[38;5;45mNone\u001b[0m, \u001b[38;5;34m64\u001b[0m)             │         \u001b[38;5;34m8,256\u001b[0m │\n",
       "├─────────────────────────────────┼────────────────────────┼───────────────┤\n",
       "│ Output_Layer (\u001b[38;5;33mDense\u001b[0m)            │ (\u001b[38;5;45mNone\u001b[0m, \u001b[38;5;34m1\u001b[0m)              │            \u001b[38;5;34m65\u001b[0m │\n",
       "└─────────────────────────────────┴────────────────────────┴───────────────┘\n"
      ]
     },
     "metadata": {},
     "output_type": "display_data"
    },
    {
     "data": {
      "text/html": [
       "<pre style=\"white-space:pre;overflow-x:auto;line-height:normal;font-family:Menlo,'DejaVu Sans Mono',consolas,'Courier New',monospace\"><span style=\"font-weight: bold\"> Total params: </span><span style=\"color: #00af00; text-decoration-color: #00af00\">26,241</span> (102.50 KB)\n",
       "</pre>\n"
      ],
      "text/plain": [
       "\u001b[1m Total params: \u001b[0m\u001b[38;5;34m26,241\u001b[0m (102.50 KB)\n"
      ]
     },
     "metadata": {},
     "output_type": "display_data"
    },
    {
     "data": {
      "text/html": [
       "<pre style=\"white-space:pre;overflow-x:auto;line-height:normal;font-family:Menlo,'DejaVu Sans Mono',consolas,'Courier New',monospace\"><span style=\"font-weight: bold\"> Trainable params: </span><span style=\"color: #00af00; text-decoration-color: #00af00\">26,241</span> (102.50 KB)\n",
       "</pre>\n"
      ],
      "text/plain": [
       "\u001b[1m Trainable params: \u001b[0m\u001b[38;5;34m26,241\u001b[0m (102.50 KB)\n"
      ]
     },
     "metadata": {},
     "output_type": "display_data"
    },
    {
     "data": {
      "text/html": [
       "<pre style=\"white-space:pre;overflow-x:auto;line-height:normal;font-family:Menlo,'DejaVu Sans Mono',consolas,'Courier New',monospace\"><span style=\"font-weight: bold\"> Non-trainable params: </span><span style=\"color: #00af00; text-decoration-color: #00af00\">0</span> (0.00 B)\n",
       "</pre>\n"
      ],
      "text/plain": [
       "\u001b[1m Non-trainable params: \u001b[0m\u001b[38;5;34m0\u001b[0m (0.00 B)\n"
      ]
     },
     "metadata": {},
     "output_type": "display_data"
    }
   ],
   "source": [
    "# creating a sequential model to streamline the layers on neural network \n",
    "lin_reg_model = tf.keras.Sequential([\n",
    "    tf.keras.layers.InputLayer(shape=(no_of_features,)),\n",
    "    tf.keras.layers.Dense(units=128,activation='relu',name='Layer_1'), \n",
    "    tf.keras.layers.Dense(units=128,activation='relu',name='Layer_2'),\n",
    "    tf.keras.layers.Dense(units=64,activation='relu',name='Layer_3'),\n",
    "    ])\n",
    "# can also add a layer like below\n",
    "lin_reg_model.add(tf.keras.layers.Dense(units=1,activation='linear',name='Output_Layer'))\n",
    "lin_reg_model.summary()"
   ]
  },
  {
   "cell_type": "code",
   "execution_count": 113,
   "id": "d54cc2a4",
   "metadata": {},
   "outputs": [],
   "source": [
    "adam = tf.keras.optimizers.Adam\n",
    "lin_reg_model.compile(optimizer=adam(learning_rate=0.001), \n",
    "                      loss='mae', # loss to optimize model\n",
    "                      metrics=[tf.keras.metrics.RootMeanSquaredError]) \n",
    "                                  # metric to measure model performance"
   ]
  },
  {
   "cell_type": "code",
   "execution_count": 136,
   "id": "9f5fc262",
   "metadata": {},
   "outputs": [
    {
     "name": "stdout",
     "output_type": "stream",
     "text": [
      "Epoch 1/10\n",
      "\u001b[1m22/22\u001b[0m \u001b[32m━━━━━━━━━━━━━━━━━━━━\u001b[0m\u001b[37m\u001b[0m \u001b[1m0s\u001b[0m 9ms/step - loss: 106699.7578 - root_mean_squared_error: 126879.5391 - val_loss: 301879.5938 - val_root_mean_squared_error: 326079.5312\n",
      "Epoch 2/10\n",
      "\u001b[1m22/22\u001b[0m \u001b[32m━━━━━━━━━━━━━━━━━━━━\u001b[0m\u001b[37m\u001b[0m \u001b[1m0s\u001b[0m 8ms/step - loss: 106696.8203 - root_mean_squared_error: 126874.1719 - val_loss: 301867.1875 - val_root_mean_squared_error: 326067.5000\n",
      "Epoch 3/10\n",
      "\u001b[1m22/22\u001b[0m \u001b[32m━━━━━━━━━━━━━━━━━━━━\u001b[0m\u001b[37m\u001b[0m \u001b[1m0s\u001b[0m 8ms/step - loss: 106702.3672 - root_mean_squared_error: 126882.2031 - val_loss: 301860.8125 - val_root_mean_squared_error: 326060.3750\n",
      "Epoch 4/10\n",
      "\u001b[1m22/22\u001b[0m \u001b[32m━━━━━━━━━━━━━━━━━━━━\u001b[0m\u001b[37m\u001b[0m \u001b[1m0s\u001b[0m 8ms/step - loss: 106699.0469 - root_mean_squared_error: 126879.6562 - val_loss: 301855.0000 - val_root_mean_squared_error: 326053.6250\n",
      "Epoch 5/10\n",
      "\u001b[1m22/22\u001b[0m \u001b[32m━━━━━━━━━━━━━━━━━━━━\u001b[0m\u001b[37m\u001b[0m \u001b[1m0s\u001b[0m 8ms/step - loss: 106694.8359 - root_mean_squared_error: 126876.0703 - val_loss: 301849.1875 - val_root_mean_squared_error: 326046.9062\n",
      "Epoch 6/10\n",
      "\u001b[1m22/22\u001b[0m \u001b[32m━━━━━━━━━━━━━━━━━━━━\u001b[0m\u001b[37m\u001b[0m \u001b[1m0s\u001b[0m 8ms/step - loss: 106690.5312 - root_mean_squared_error: 126872.4219 - val_loss: 301843.3125 - val_root_mean_squared_error: 326040.0938\n",
      "Epoch 7/10\n",
      "\u001b[1m22/22\u001b[0m \u001b[32m━━━━━━━━━━━━━━━━━━━━\u001b[0m\u001b[37m\u001b[0m \u001b[1m0s\u001b[0m 8ms/step - loss: 106686.2031 - root_mean_squared_error: 126868.7812 - val_loss: 301837.3438 - val_root_mean_squared_error: 326033.2500\n",
      "Epoch 8/10\n",
      "\u001b[1m22/22\u001b[0m \u001b[32m━━━━━━━━━━━━━━━━━━━━\u001b[0m\u001b[37m\u001b[0m \u001b[1m0s\u001b[0m 8ms/step - loss: 106680.4375 - root_mean_squared_error: 126862.0078 - val_loss: 301819.5938 - val_root_mean_squared_error: 326017.0000\n",
      "Epoch 9/10\n",
      "\u001b[1m22/22\u001b[0m \u001b[32m━━━━━━━━━━━━━━━━━━━━\u001b[0m\u001b[37m\u001b[0m \u001b[1m0s\u001b[0m 8ms/step - loss: 106696.7734 - root_mean_squared_error: 126882.2500 - val_loss: 301823.6562 - val_root_mean_squared_error: 326018.2188\n",
      "Epoch 10/10\n",
      "\u001b[1m22/22\u001b[0m \u001b[32m━━━━━━━━━━━━━━━━━━━━\u001b[0m\u001b[37m\u001b[0m \u001b[1m0s\u001b[0m 8ms/step - loss: 106674.7266 - root_mean_squared_error: 126857.4453 - val_loss: 301807.2188 - val_root_mean_squared_error: 326002.9688\n"
     ]
    }
   ],
   "source": [
    "# validation_split is only supported for tensors or NumPy arrays, so need to split the data before feeding into fit\n",
    "history = lin_reg_model.fit(train_pipeline, validation_data=cv_pipeline, epochs=10)"
   ]
  },
  {
   "cell_type": "code",
   "execution_count": 137,
   "id": "a5a89b71",
   "metadata": {},
   "outputs": [
    {
     "data": {
      "text/plain": [
       "[105734.6640625,\n",
       " 105724.4765625,\n",
       " 105722.1484375,\n",
       " 105718.515625,\n",
       " 105714.7109375,\n",
       " 105710.8671875,\n",
       " 105706.9453125,\n",
       " 105707.625,\n",
       " 105700.8359375,\n",
       " 105700.4453125]"
      ]
     },
     "execution_count": 137,
     "metadata": {},
     "output_type": "execute_result"
    }
   ],
   "source": [
    "# loss/metrics shown above during .fit() is the loss of calculated on the last batch of data processed in that epoch\n",
    "# loss/metrics stored in history is the average loss calculated across all batches within that epoch\n",
    "history.history['loss']"
   ]
  },
  {
   "cell_type": "code",
   "execution_count": 138,
   "id": "8cb87d3e",
   "metadata": {},
   "outputs": [
    {
     "data": {
      "text/plain": [
       "[301879.59375,\n",
       " 301867.1875,\n",
       " 301860.8125,\n",
       " 301855.0,\n",
       " 301849.1875,\n",
       " 301843.3125,\n",
       " 301837.34375,\n",
       " 301819.59375,\n",
       " 301823.65625,\n",
       " 301807.21875]"
      ]
     },
     "execution_count": 138,
     "metadata": {},
     "output_type": "execute_result"
    }
   ],
   "source": [
    "history.history['val_loss']"
   ]
  },
  {
   "cell_type": "code",
   "execution_count": 141,
   "id": "fb16bbfb",
   "metadata": {},
   "outputs": [
    {
     "data": {
      "text/plain": [
       "<matplotlib.legend.Legend at 0x358b70fb0>"
      ]
     },
     "execution_count": 141,
     "metadata": {},
     "output_type": "execute_result"
    },
    {
     "data": {
      "image/png": "[encoded data removed]",
      "text/plain": [
       "<Figure size 640x480 with 1 Axes>"
      ]
     },
     "metadata": {},
     "output_type": "display_data"
    }
   ],
   "source": [
    "plt.plot(history.history['loss'])\n",
    "plt.plot(history.history['val_loss'])\n",
    "plt.legend(['Train','CV'])"
   ]
  },
  {
   "cell_type": "code",
   "execution_count": 165,
   "id": "b3b036bc",
   "metadata": {},
   "outputs": [
    {
     "name": "stdout",
     "output_type": "stream",
     "text": [
      "\u001b[1m22/22\u001b[0m \u001b[32m━━━━━━━━━━━━━━━━━━━━\u001b[0m\u001b[37m\u001b[0m \u001b[1m0s\u001b[0m 4ms/step - loss: 106626.4297 - root_mean_squared_error: 126783.0234\n",
      "loss  :  105618.21875\n",
      "compile_metrics  :  125304.5625\n"
     ]
    }
   ],
   "source": [
    "for metric,value in zip(lin_reg_model.metrics_names,lin_reg_model.evaluate(train_pipeline)):\n",
    "    print(metric,' : ',value)"
   ]
  },
  {
   "cell_type": "code",
   "execution_count": 166,
   "id": "35905dc7",
   "metadata": {},
   "outputs": [
    {
     "name": "stdout",
     "output_type": "stream",
     "text": [
      "\u001b[1m5/5\u001b[0m \u001b[32m━━━━━━━━━━━━━━━━━━━━\u001b[0m\u001b[37m\u001b[0m \u001b[1m0s\u001b[0m 6ms/step - loss: 309784.5938 - root_mean_squared_error: 333602.4375 \n",
      "loss  :  301807.21875\n",
      "compile_metrics  :  326002.96875\n"
     ]
    }
   ],
   "source": [
    "for metric,value in zip(lin_reg_model.metrics_names,lin_reg_model.evaluate(cv_pipeline)):\n",
    "    print(metric,' : ',value)"
   ]
  },
  {
   "cell_type": "code",
   "execution_count": 169,
   "id": "6b1559e5",
   "metadata": {},
   "outputs": [
    {
     "name": "stdout",
     "output_type": "stream",
     "text": [
      "\u001b[1m5/5\u001b[0m \u001b[32m━━━━━━━━━━━━━━━━━━━━\u001b[0m\u001b[37m\u001b[0m \u001b[1m0s\u001b[0m 6ms/step \n"
     ]
    }
   ],
   "source": [
    "y_test_predicted = lin_reg_model.predict(test_pipeline)"
   ]
  },
  {
   "cell_type": "code",
   "execution_count": 192,
   "id": "11304adc",
   "metadata": {},
   "outputs": [
    {
     "name": "stderr",
     "output_type": "stream",
     "text": [
      "2025-07-26 20:34:29.465353: W tensorflow/core/framework/local_rendezvous.cc:404] Local rendezvous is aborting with status: OUT_OF_RANGE: End of sequence\n"
     ]
    },
    {
     "data": {
      "text/plain": [
       "[<tf.Tensor: shape=(32,), dtype=float64, numpy=\n",
       " array([208189.5, 172415. , 441561.5, 286937.5, 172234.5, 344495. ,\n",
       "        512492. , 136079. , 180368.5, 235251.5, 324373. , 528770. ,\n",
       "        229982. , 108894. , 243549.5, 231291.5, 149141.5, 300499.5,\n",
       "        333091.5, 137514. , 281037.5, 343595. , 515722.5,  70862. ,\n",
       "        269326. , 444625. , 453672.5, 242950. , 387089. , 230797. ,\n",
       "        385031. , 406657.5])>,\n",
       " <tf.Tensor: shape=(32,), dtype=float64, numpy=\n",
       " array([425083.5, 422439.5, 526502.5, 553901. , 472081. , 178991.5,\n",
       "        299129.5,  98311.5, 224359.5, 240296.5, 464634.5, 413540. ,\n",
       "        432159.5, 529318.5, 373735. , 344405.5, 272075. , 167794. ,\n",
       "        136824.5, 584116.5, 549406. , 421679.5, 217562. ,  62737. ,\n",
       "        584267.5, 215633.5, 228892.5, 179711.5, 475984.5, 349762. ,\n",
       "        110883.5, 420403. ])>,\n",
       " <tf.Tensor: shape=(32,), dtype=float64, numpy=\n",
       " array([213739. , 413288. , 218814. , 262126.5, 369571.5, 167998. ,\n",
       "        293875.5, 475273.5, 501920.5, 344820.5, 497572.5, 332812. ,\n",
       "        265955. , 265194. , 329639. , 165595. , 448905.5, 415493. ,\n",
       "        526394. , 424781. , 379725. , 104215. , 408405.5, 413954.5,\n",
       "        302011.5, 140596. , 245810. , 441865. , 130112.5, 197320. ,\n",
       "        164649.5, 206836.5])>,\n",
       " <tf.Tensor: shape=(32,), dtype=float64, numpy=\n",
       " array([168940.5, 153375.5, 291815.5, 418871.5, 379608. , 202702. ,\n",
       "        512885.5, 385196. , 198511.5, 224745. , 313049.5, 144124. ,\n",
       "        375118. ,  53470.5, 113700. , 410877. , 427590. , 244640. ,\n",
       "        508328.5, 125454. , 266341. , 146568. , 253055. , 209639. ,\n",
       "        311973. , 206999.5, 379566. , 166571. , 249765.5, 322684. ,\n",
       "        409312.5, 111185. ])>,\n",
       " <tf.Tensor: shape=(22,), dtype=float64, numpy=\n",
       " array([545171. ,  98242.5, 273674.5, 347784.5, 177748.5, 216327. ,\n",
       "        509506.5, 429669. , 102144.5, 187305. , 239815.5, 418504. ,\n",
       "        417693.5, 193067. , 272437.5, 475001.5, 457793. , 275385. ,\n",
       "        503648. , 381846.5, 172032.5, 469084.5])>]"
      ]
     },
     "execution_count": 192,
     "metadata": {},
     "output_type": "execute_result"
    }
   ],
   "source": [
    "y_test_actual = [y for x,y in test_pipeline]\n",
    "y_test_actual"
   ]
  },
  {
   "cell_type": "code",
   "execution_count": 193,
   "id": "390ac0f7",
   "metadata": {},
   "outputs": [
    {
     "data": {
      "text/plain": [
       "TensorShape([150])"
      ]
     },
     "execution_count": 193,
     "metadata": {},
     "output_type": "execute_result"
    }
   ],
   "source": [
    "# data divided into batches, need to unify them into single tensor/array\n",
    "y_test_actual = tf.concat(values=[x for x in y_test_actual],axis=0)\n",
    "y_test_actual.shape"
   ]
  },
  {
   "cell_type": "code",
   "execution_count": 195,
   "id": "f7d5f879",
   "metadata": {},
   "outputs": [
    {
     "data": {
      "text/plain": [
       "<matplotlib.legend.Legend at 0x35fde6d80>"
      ]
     },
     "execution_count": 195,
     "metadata": {},
     "output_type": "execute_result"
    },
    {
     "data": {
      "image/png": "[encoded data removed]",
      "text/plain": [
       "<Figure size 1600x600 with 1 Axes>"
      ]
     },
     "metadata": {},
     "output_type": "display_data"
    }
   ],
   "source": [
    "plt.figure(figsize=(16,6))\n",
    "plt.plot(y_test_predicted)\n",
    "plt.plot(y_test_actual)\n",
    "plt.legend(['Predicted','Actual'])"
   ]
  },
  {
   "cell_type": "code",
   "execution_count": null,
   "id": "2addbaf9",
   "metadata": {},
   "outputs": [],
   "source": []
  }
 ],
 "metadata": {
  "kernelspec": {
   "display_name": "TensorFlow (tf_env)",
   "language": "python",
   "name": "tf_env"
  },
  "language_info": {
   "codemirror_mode": {
    "name": "ipython",
    "version": 3
   },
   "file_extension": ".py",
   "mimetype": "text/x-python",
   "name": "python",
   "nbconvert_exporter": "python",
   "pygments_lexer": "ipython3",
   "version": "3.12.11"
  }
 },
 "nbformat": 4,
 "nbformat_minor": 5
}
